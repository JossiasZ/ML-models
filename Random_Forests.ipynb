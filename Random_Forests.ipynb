{
  "nbformat": 4,
  "nbformat_minor": 0,
  "metadata": {
    "colab": {
      "provenance": [],
      "authorship_tag": "ABX9TyNIqhRH9MndwkL1T1lZWZR7",
      "include_colab_link": true
    },
    "kernelspec": {
      "name": "python3",
      "display_name": "Python 3"
    },
    "language_info": {
      "name": "python"
    }
  },
  "cells": [
    {
      "cell_type": "markdown",
      "metadata": {
        "id": "view-in-github",
        "colab_type": "text"
      },
      "source": [
        "<a href=\"https://colab.research.google.com/github/JossiasZ/ML-models/blob/main/Random_Forests.ipynb\" target=\"_parent\"><img src=\"https://colab.research.google.com/assets/colab-badge.svg\" alt=\"Open In Colab\"/></a>"
      ]
    },
    {
      "cell_type": "code",
      "source": [
        "import pandas as pd\n",
        "from sklearn.model_selection import train_test_split\n",
        "from sklearn.ensemble import RandomForestClassifier\n",
        "from sklearn.metrics import accuracy_score, confusion_matrix, classification_report\n",
        "import joblib\n",
        "\n",
        "# Loading the data\n",
        "dados = pd.read_csv(\"system1data.csv\")\n",
        "\n",
        "conj_caract = ['Voc/MaxVoc', 'Isc/MaxIsc', 'G/1000', 'AT/50']\n",
        "caracteristicas = dados[conj_caract]\n",
        "alvo = dados.Fault\n",
        "\n",
        "caract_trein, caract_teste, alvo_trein, alvo_teste = \\\n",
        "    train_test_split(caracteristicas, alvo, test_size=0.2)\n",
        "\n",
        "# Defining specific parameters for the Random Forest\n",
        "parametros_rf = {\n",
        "    'n_estimators': 1000,\n",
        "    'criterion': 'entropy',\n",
        "    'max_depth': None,\n",
        "    'min_samples_split': 2,\n",
        "    'min_samples_leaf': 1\n",
        "}\n",
        "\n",
        "# Creating the RandomForest classifier with the specified parameters\n",
        "classif = RandomForestClassifier(**parametros_rf)\n",
        "\n",
        "# Training the model\n",
        "classif.fit(caract_trein, alvo_trein)\n",
        "\n",
        "# Making predictions\n",
        "predicoes = classif.predict(caract_teste)\n",
        "\n",
        "# Calculating the confusion matrix\n",
        "conf_matrix = confusion_matrix(alvo_teste, predicoes)\n",
        "\n",
        "# Printing the confusion matrix\n",
        "print(\"Confusion Matrix:\")\n",
        "print(conf_matrix)\n",
        "\n",
        "# Printing the accuracy\n",
        "accuracy = accuracy_score(alvo_teste, predicoes)\n",
        "print(\"Accuracy:\", accuracy)\n",
        "\n",
        "# Printing the classification report\n",
        "classification_rep = classification_report(alvo_teste, predicoes, digits=4)\n",
        "print(\"Classification Report:\\n\", classification_rep)\n",
        "\n",
        "# Saving the trained model using joblib\n",
        "nome_arquivo_modelo = \"melhor_modelo_random_forest.joblib\"\n",
        "joblib.dump(classif, nome_arquivo_modelo)"
      ],
      "metadata": {
        "id": "SC3F1vgEEygA"
      },
      "execution_count": null,
      "outputs": []
    },
    {
      "cell_type": "code",
      "execution_count": null,
      "metadata": {
        "id": "RLquvflpEWlU"
      },
      "outputs": [],
      "source": [
        "# Loading the data\n",
        "dados = pd.read_csv(\"system2data.csv\")\n",
        "\n",
        "conj_caract = ['Voc/MaxVoc', 'Isc/MaxIsc', 'G/1000', 'AT/50']\n",
        "caracteristicas = dados[conj_caract]\n",
        "alvo = dados.Fault\n",
        "\n",
        "# Loading the trained model\n",
        "modelo_carregado = joblib.load(\"melhor_modelo_random_forest.joblib\")\n",
        "\n",
        "# Making predictions on new data using the loaded model\n",
        "previsoes_novos_dados = modelo_carregado.predict(caracteristicas)\n",
        "\n",
        "# Calculating the confusion matrix\n",
        "conf_matrix = confusion_matrix(alvo, previsoes_novos_dados)\n",
        "\n",
        "# Printing the confusion matrix\n",
        "print(\"Matriz de Confusão:\")\n",
        "print(conf_matrix)\n",
        "\n",
        "# Printing the classification report\n",
        "classification_rep = classification_report(alvo, previsoes_novos_dados, digits=4)\n",
        "print(\"Classification Report:\\n\", classification_rep)"
      ]
    }
  ]
}
