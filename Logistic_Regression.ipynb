{
  "nbformat": 4,
  "nbformat_minor": 0,
  "metadata": {
    "colab": {
      "provenance": [],
      "authorship_tag": "ABX9TyMKjx5fGPfNUSJtYAASrlPB",
      "include_colab_link": true
    },
    "kernelspec": {
      "name": "python3",
      "display_name": "Python 3"
    },
    "language_info": {
      "name": "python"
    }
  },
  "cells": [
    {
      "cell_type": "markdown",
      "metadata": {
        "id": "view-in-github",
        "colab_type": "text"
      },
      "source": [
        "<a href=\"https://colab.research.google.com/github/JossiasZ/ML-models/blob/main/Logistic_Regression.ipynb\" target=\"_parent\"><img src=\"https://colab.research.google.com/assets/colab-badge.svg\" alt=\"Open In Colab\"/></a>"
      ]
    },
    {
      "cell_type": "code",
      "source": [
        "import pandas as pd\n",
        "import numpy as np\n",
        "from sklearn.linear_model import LogisticRegression\n",
        "from sklearn.metrics import accuracy_score, confusion_matrix, classification_report\n",
        "from sklearn.model_selection import train_test_split\n",
        "from sklearn.preprocessing import LabelEncoder\n",
        "import joblib\n",
        "\n",
        "# Loading the data\n",
        "dados = pd.read_csv(\"system1data.csv\")\n",
        "\n",
        "# Defining attributes and labels\n",
        "X = ['Voc/MaxVoc', 'Isc/MaxIsc', 'G/1000', 'AT/50']\n",
        "caracteristicas = dados[X]\n",
        "y = dados.Fault\n",
        "\n",
        "# Preparing the data\n",
        "label_encoder = LabelEncoder()\n",
        "y_encoded = label_encoder.fit_transform(y)\n",
        "\n",
        "caract = caracteristicas\n",
        "alvo = y_encoded\n",
        "\n",
        "caract_trein, caract_teste, alvo_trein, alvo_teste = train_test_split(caract, alvo, test_size=0.2)\n",
        "\n",
        "# Creating the logistic regression model with the specified parameters\n",
        "regrlog = LogisticRegression(multi_class='auto', max_iter=1000, C=44.1871, class_weight='balanced', fit_intercept=True, penalty='l1', solver='saga')\n",
        "\n",
        "# Training the model\n",
        "regrlog.fit(caract_trein, alvo_trein)\n",
        "\n",
        "# Making predictions on the test data using the trained model\n",
        "previsoes = regrlog.predict(caract_teste)\n",
        "\n",
        "# Calculating the confusion matrix\n",
        "conf_matrix = confusion_matrix(alvo_teste, previsoes)\n",
        "\n",
        "# Printing the confusion matrix\n",
        "print(\"Matriz de Confusão:\")\n",
        "print(conf_matrix)\n",
        "\n",
        "# Printing the classification report with recall, precision, and f1-score\n",
        "report = classification_report(alvo_teste, previsoes, digits=4)\n",
        "print(\"Classification Report:\")\n",
        "print(report)\n",
        "\n",
        "# Calculating accuracy\n",
        "acuracia = accuracy_score(alvo_teste, previsoes)\n",
        "print(\"Acurácia:\", acuracia)\n",
        "\n",
        "# Saving the trained model using joblib\n",
        "nome_arquivo_modelo = \"modelo_regressao_logistica.joblib\"\n",
        "joblib.dump(regrlog, nome_arquivo_modelo)"
      ],
      "metadata": {
        "id": "WmhGHSGCWr41"
      },
      "execution_count": null,
      "outputs": []
    },
    {
      "cell_type": "code",
      "source": [
        "# Loading the new data\n",
        "novos_dados = pd.read_csv(\"system2data.csv\")\n",
        "\n",
        "# Defining attributes\n",
        "X_novos = ['Voc/MaxVoc', 'Isc/MaxIsc', 'G/1000', 'AT/50']\n",
        "caracteristicas_novos = novos_dados[X_novos]\n",
        "\n",
        "# Preparing the data\n",
        "label_encoder = LabelEncoder()\n",
        "y_novos_encoded = label_encoder.fit_transform(novos_dados.Fault)\n",
        "\n",
        "caract_novos = caracteristicas_novos\n",
        "alvo_novos = y_novos_encoded\n",
        "\n",
        "# Loading the trained model\n",
        "modelo_carregado = joblib.load(\"modelo_regressao_logistica.joblib\")\n",
        "\n",
        "# Making predictions on the new data using the loaded model\n",
        "previsoes_novos = modelo_carregado.predict(caract_novos)\n",
        "\n",
        "# Calculating the confusion matrix\n",
        "conf_matrix_novos = confusion_matrix(alvo_novos, previsoes_novos)\n",
        "\n",
        "# Printing the confusion matrix\n",
        "print(\"Matriz de Confusão para os novos dados:\")\n",
        "print(conf_matrix_novos)\n",
        "\n",
        "# Printing the classification report with recall, precision, and f1-score\n",
        "report_novos = classification_report(alvo_novos, previsoes_novos, digits=4)\n",
        "print(\"Classification Report para os novos dados:\")\n",
        "print(report_novos)\n",
        "\n",
        "# Calculating accuracy for the new data\n",
        "acuracia_novos = accuracy_score(alvo_novos, previsoes_novos)\n",
        "print(\"Acurácia para os novos dados:\", acuracia_novos)\n",
        "\n"
      ],
      "metadata": {
        "id": "KsJF5dn_YGR2"
      },
      "execution_count": null,
      "outputs": []
    },
    {
      "cell_type": "code",
      "source": [],
      "metadata": {
        "id": "ceZOKoGpaMTC"
      },
      "execution_count": null,
      "outputs": []
    }
  ]
}