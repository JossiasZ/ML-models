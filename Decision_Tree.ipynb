{
  "nbformat": 4,
  "nbformat_minor": 0,
  "metadata": {
    "colab": {
      "provenance": [],
      "authorship_tag": "ABX9TyOGxGLYpIj0T0tIQlZ/XxTY",
      "include_colab_link": true
    },
    "kernelspec": {
      "name": "python3",
      "display_name": "Python 3"
    },
    "language_info": {
      "name": "python"
    }
  },
  "cells": [
    {
      "cell_type": "markdown",
      "metadata": {
        "id": "view-in-github",
        "colab_type": "text"
      },
      "source": [
        "<a href=\"https://colab.research.google.com/github/JossiasZ/ML-models/blob/main/Decision_Tree.ipynb\" target=\"_parent\"><img src=\"https://colab.research.google.com/assets/colab-badge.svg\" alt=\"Open In Colab\"/></a>"
      ]
    },
    {
      "cell_type": "code",
      "source": [
        "import pandas as pd\n",
        "from sklearn.model_selection import train_test_split\n",
        "from sklearn.tree import DecisionTreeClassifier\n",
        "from sklearn.metrics import classification_report, confusion_matrix\n",
        "import joblib\n",
        "from collections import Counter\n",
        "\n",
        "# Loading the data and separating features and target\n",
        "dados = pd.read_csv(\"system1data.csv\")\n",
        "conj_caract = ['Tensao/Max Tensao Voc', 'Corrente/Max Corrente Isc', 'Irradiancia', 'Temperatura']\n",
        "caracteristicas = dados[conj_caract]\n",
        "alvo = dados.Falha\n",
        "\n",
        "# Splitting the data into training and test sets\n",
        "caract_trein, caract_teste, alvo_trein, alvo_teste = train_test_split(caracteristicas, alvo, test_size=0.20, random_state=None)\n",
        "\n",
        "# Defining the values of hyperparameters\n",
        "max_depth_param = None\n",
        "min_samples_split_param = 3\n",
        "min_samples_leaf_param = 1\n",
        "criterion_param = 'entropy'\n",
        "\n",
        "# Creating the decision tree classifier\n",
        "classif = DecisionTreeClassifier(\n",
        "    max_depth=max_depth_param,\n",
        "    min_samples_split=min_samples_split_param,\n",
        "    min_samples_leaf=min_samples_leaf_param,\n",
        "    criterion=criterion_param\n",
        ")\n",
        "\n",
        "# Training the model\n",
        "classif.fit(caract_trein, alvo_trein)\n",
        "\n",
        "# Making predictions with the trained model\n",
        "predicoes = classif.predict(caract_teste)\n",
        "\n",
        "# Printing the classification report\n",
        "classification_rep = classification_report(alvo_teste, predicoes, digits=4)\n",
        "print(\"Classification Report:\\n\", classification_rep)\n",
        "\n",
        "# Calculating the confusion matrix\n",
        "conf_matrix = confusion_matrix(alvo_teste, predicoes)\n",
        "print(\"Confusion Matrix:\")\n",
        "print(conf_matrix)\n",
        "\n",
        "# Saving the trained model using joblib\n",
        "nome_arquivo_modelo = \"melhor_modelo_arvore_decision.joblib\"\n",
        "joblib.dump(classif, nome_arquivo_modelo)"
      ],
      "metadata": {
        "id": "SC3F1vgEEygA"
      },
      "execution_count": null,
      "outputs": []
    },
    {
      "cell_type": "code",
      "execution_count": null,
      "metadata": {
        "id": "RLquvflpEWlU"
      },
      "outputs": [],
      "source": [
        "# Loading the data\n",
        "dados = pd.read_csv(\"system2data.csv\")\n",
        "\n",
        "conj_caract = ['Tensao/Max Tensao Voc', 'Corrente/Max Corrente Isc', 'Irradiancia', 'Temperatura']\n",
        "caracteristicas = dados[conj_caract]\n",
        "alvo = dados.Falha\n",
        "\n",
        "# Loading the trained model\n",
        "modelo_carregado = joblib.load(\"melhor_modelo_arvore_decision.joblib\")\n",
        "\n",
        "# Making predictions\n",
        "predicoes = modelo_carregado.predict(caracteristicas)\n",
        "\n",
        "# Printing the classification report\n",
        "classification_rep = classification_report(alvo, predicoes, digits=4)\n",
        "print(\"Classification Report:\\n\", classification_rep)\n",
        "\n",
        "# Calculating the confusion matrix\n",
        "conf_matrix = confusion_matrix(alvo, predicoes)\n",
        "print(\"Confusion Matrix:\")\n",
        "print(conf_matrix)\n",
        "\n",
        "# Printing information about the loaded model\n",
        "print(\"Tipo do Modelo:\", type(modelo_carregado))\n",
        "print(\"Parâmetros do Modelo:\", modelo_carregado.get_params())"
      ]
    }
  ]
}