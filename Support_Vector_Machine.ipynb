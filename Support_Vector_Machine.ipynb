{
  "nbformat": 4,
  "nbformat_minor": 0,
  "metadata": {
    "colab": {
      "provenance": [],
      "authorship_tag": "ABX9TyOV5c6E6EVG3/mykbIwjJoS",
      "include_colab_link": true
    },
    "kernelspec": {
      "name": "python3",
      "display_name": "Python 3"
    },
    "language_info": {
      "name": "python"
    }
  },
  "cells": [
    {
      "cell_type": "markdown",
      "metadata": {
        "id": "view-in-github",
        "colab_type": "text"
      },
      "source": [
        "<a href=\"https://colab.research.google.com/github/JossiasZ/ML-models/blob/main/Support_Vector_Machine.ipynb\" target=\"_parent\"><img src=\"https://colab.research.google.com/assets/colab-badge.svg\" alt=\"Open In Colab\"/></a>"
      ]
    },
    {
      "cell_type": "code",
      "source": [
        "import numpy as np\n",
        "import pandas as pd\n",
        "from sklearn.preprocessing import LabelEncoder, MinMaxScaler\n",
        "from sklearn.model_selection import train_test_split\n",
        "from sklearn.metrics import accuracy_score, confusion_matrix, classification_report\n",
        "from sklearn.svm import SVC\n",
        "import joblib\n",
        "\n",
        "# Loading the data\n",
        "dados = pd.read_csv(\"system1data.csv\")\n",
        "\n",
        "# Defining attributes and labels\n",
        "X = ['Voc/MaxVoc', 'Isc/MaxIsc', 'G/1000', 'AT/50']\n",
        "caracteristicas = dados[X]\n",
        "y = dados.Fault\n",
        "\n",
        "# Preparing the data\n",
        "label_encoder = LabelEncoder()\n",
        "y_encoded = label_encoder.fit_transform(y)\n",
        "\n",
        "# Splitting the data into training and test sets\n",
        "X_train, X_test, y_train, y_test = train_test_split(caracteristicas, y_encoded, test_size=0.2)\n",
        "\n",
        "# Setting up the SVM with the desired parameters\n",
        "kernel = 'rbf'\n",
        "gamma = 79.783\n",
        "C = 3.7442\n",
        "coef0 = 0.9021\n",
        "degree = 3\n",
        "svm = SVC(kernel=kernel, gamma=gamma, C=C, degree=degree, coef0=coef0)\n",
        "\n",
        "# Training the SVM model\n",
        "svm.fit(X_train, y_train)\n",
        "\n",
        "# Making predictions on the test data\n",
        "y_pred = svm.predict(X_test)\n",
        "\n",
        "# Calculating performance metrics\n",
        "accuracy = accuracy_score(y_test, y_pred)\n",
        "confusion_mtx = confusion_matrix(y_test, y_pred)\n",
        "classification_rep = classification_report(y_test, y_pred, digits=4)\n",
        "\n",
        "# Displaying performance metrics\n",
        "print(\"Acurácia:\", accuracy)\n",
        "print(\"Matriz de Confusão:\\n\", confusion_mtx)\n",
        "print(\"Classification Report:\\n\", classification_rep)\n",
        "\n",
        "# Saving the trained model using joblib\n",
        "nome_arquivo_modelo = \"modelo_svm_treinado.joblib\"\n",
        "joblib.dump(svm, nome_arquivo_modelo)\n",
        "print(f\"O modelo treinado foi salvo em '{nome_arquivo_modelo}'.\")"
      ],
      "metadata": {
        "id": "WmhGHSGCWr41"
      },
      "execution_count": null,
      "outputs": []
    },
    {
      "cell_type": "code",
      "source": [
        "import joblib\n",
        "import pandas as pd\n",
        "from sklearn.metrics import accuracy_score, confusion_matrix, classification_report\n",
        "from sklearn.preprocessing import LabelEncoder\n",
        "\n",
        "# Loading the trained SVM model from a file\n",
        "nome_arquivo_modelo = \"modelo_svm_treinado.joblib\"\n",
        "svm_carregado = joblib.load(nome_arquivo_modelo)\n",
        "\n",
        "# Loading the data\n",
        "dados = pd.read_csv(\"system1data.csv\")\n",
        "\n",
        "# Defining attributes and labels\n",
        "X = ['Voc/MaxVoc', 'Isc/MaxIsc', 'G/1000', 'AT/50']\n",
        "caracteristicas = dados[X]\n",
        "y = dados.Fault\n",
        "\n",
        "# Preparing the data\n",
        "label_encoder = LabelEncoder()\n",
        "y_encoded = label_encoder.fit_transform(y)\n",
        "\n",
        "# Select the same features used during training\n",
        "X_novos = caracteristicas\n",
        "\n",
        "# Making predictions on the new data\n",
        "y_novos_pred = svm_carregado.predict(X_novos)\n",
        "\n",
        "# Displaying performance metrics\n",
        "accuracy_novos = accuracy_score(y_encoded, y_novos_pred)\n",
        "confusion_mtx_novos = confusion_matrix(y_encoded, y_novos_pred)\n",
        "classification_rep_novos = classification_report(y_encoded, y_novos_pred, digits=4)\n",
        "\n",
        "# Displaying results\n",
        "print(\"Acurácia nos novos dados: {:.4f}\".format(accuracy_novos))\n",
        "print(\"Matriz de confusão nos novos dados:\")\n",
        "print(confusion_mtx_novos)\n",
        "print(\"Classification Report nos novos dados:\\n\", classification_rep_novos)\n"
      ],
      "metadata": {
        "id": "KsJF5dn_YGR2"
      },
      "execution_count": null,
      "outputs": []
    }
  ]
}
